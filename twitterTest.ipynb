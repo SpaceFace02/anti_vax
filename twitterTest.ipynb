{
 "cells": [
  {
   "cell_type": "code",
   "execution_count": null,
   "metadata": {},
   "outputs": [],
   "source": [
    "# Use the Twitter API to fetch tweets from tweetID's.\n",
    "import pandas as pd\n",
    "import tweepy\n",
    "\n",
    "# Load the csv file into a Pandas dataframe\n",
    "df = pd.read_csv('VaxMisinfoData.csv')\n",
    "\n",
    "# Twitter API credentials\n",
    "consumer_key = \"your_consumer_key\"\n",
    "consumer_secret = \"your_consumer_secret\"\n",
    "access_token = \"your_access_token\"\n",
    "access_token_secret = \"your_access_token_secret\"\n",
    "\n",
    "# Authenticate to Twitter API\n",
    "auth = tweepy.OAuthHandler(consumer_key, consumer_secret)\n",
    "auth.set_access_token(access_token, access_token_secret)\n",
    "\n",
    "# Create API object\n",
    "api = tweepy.API(auth)\n",
    "\n",
    "# Add a new column for the tweet body\n",
    "df['tweet_body'] = None\n",
    "\n",
    "# Loop through each row in the dataframe\n",
    "for index, row in df.iterrows():\n",
    "    try:\n",
    "        # Make API request to retrieve the tweet body\n",
    "        tweet = api.get_status(row['id'])\n",
    "        tweet_body = tweet.text\n",
    "        \n",
    "        # Store the tweet body in the dataframe\n",
    "        df.at[index, 'tweet_body'] = tweet_body\n",
    "    except tweepy.TweepError as e:\n",
    "        # Handle any errors that occur during API requests\n",
    "        print(f\"Failed to retrieve tweet for id {row['id']}: {e}\")\n",
    "\n",
    "# Save the updated dataframe to a new csv file\n",
    "df.to_csv('output_file.csv', index=False)"
   ]
  }
 ],
 "metadata": {
  "kernelspec": {
   "display_name": "incel",
   "language": "python",
   "name": "python3"
  },
  "language_info": {
   "name": "python",
   "version": "3.9.7 (default, Sep 16 2021, 16:59:28) [MSC v.1916 64 bit (AMD64)]"
  },
  "orig_nbformat": 4,
  "vscode": {
   "interpreter": {
    "hash": "7ffe074c48d82be4f4f8dd0519cca7c4c0b3227d0090eb11980329ca26d72134"
   }
  }
 },
 "nbformat": 4,
 "nbformat_minor": 2
}
